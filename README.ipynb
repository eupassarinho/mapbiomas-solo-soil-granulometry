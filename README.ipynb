{
 "cells": [
  {
   "cell_type": "markdown",
   "id": "cf24e67d",
   "metadata": {},
   "source": [
    "# Soil granulometry\n",
    "\n",
    "Soil data harmonization: from soil profile horizons/layers to fixed width soil layers (0 to 30 cm in depth)."
   ]
  }
 ],
 "metadata": {
  "kernelspec": {
   "display_name": "Python 3 (ipykernel)",
   "language": "python",
   "name": "python3"
  },
  "language_info": {
   "codemirror_mode": {
    "name": "ipython",
    "version": 3
   },
   "file_extension": ".py",
   "mimetype": "text/x-python",
   "name": "python",
   "nbconvert_exporter": "python",
   "pygments_lexer": "ipython3",
   "version": "3.9.12"
  }
 },
 "nbformat": 4,
 "nbformat_minor": 5
}
